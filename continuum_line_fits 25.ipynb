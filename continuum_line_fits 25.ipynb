{
 "cells": [
  {
   "cell_type": "code",
   "execution_count": 27,
   "id": "0df8e47e",
   "metadata": {},
   "outputs": [
    {
     "name": "stderr",
     "output_type": "stream",
     "text": [
      "WARNING: FITSFixedWarning: 'obsfix' made the change 'Set OBSGEO-L to   -36.570730 from OBSGEO-[XYZ].\n",
      "Set OBSGEO-B to    -6.234627 from OBSGEO-[XYZ].\n",
      "Set OBSGEO-H to 1336593657.111 from OBSGEO-[XYZ]'. [astropy.wcs.wcs]\n",
      "WARNING: FITSFixedWarning: 'datfix' made the change 'Set DATE-BEG to '2023-09-09T22:22:37.592' from MJD-BEG.\n",
      "Set DATE-AVG to '2023-09-10T00:53:49.172' from MJD-AVG.\n",
      "Set DATE-END to '2023-09-10T03:25:56.696' from MJD-END'. [astropy.wcs.wcs]\n",
      "/Users/mary/anaconda3/lib/python3.11/site-packages/numpy/lib/function_base.py:1562: UserWarning: Warning: converting a masked element to nan.\n",
      "  fp = np.asarray(fp)\n"
     ]
    },
    {
     "name": "stdout",
     "output_type": "stream",
     "text": [
      "Continuum FITS file saved at 25continuum_line.fits\n"
     ]
    }
   ],
   "source": [
    "import numpy as np\n",
    "from astropy.io import fits\n",
    "from mpdaf.obj import Cube\n",
    "from astropy import units as u\n",
    "\n",
    "cube_path = '/Users/mary/Fits image of JWST/ngc6302_ch4-long_s3d.fits'\n",
    "cube = Cube(cube_path)\n",
    "\n",
    "\n",
    "pixel_size_arcsec = cube.wcs.get_step(unit=u.arcsec)[0]  \n",
    "solid_angle = (pixel_size_arcsec * u.arcsec).to(u.rad)**2  \n",
    "flux_density = cube.data * solid_angle.value * 1e6  \n",
    "wavelengths = cube.wave.coord() \n",
    "range_min, range_max = 124.60, 25.24\n",
    "mask = (wavelengths >= range_min) & (wavelengths <= range_max)\n",
    "filtered_wavelengths = wavelengths[mask]\n",
    "continuum_cube = np.zeros((len(filtered_wavelengths), cube.shape[1], cube.shape[2]))\n",
    "\n",
    "for y in range(cube.shape[1]):  \n",
    "    for x in range(cube.shape[2]):  \n",
    "        pixel_flux = flux_density[:, y, x] \n",
    "        continuum_start = pixel_flux[np.argmin(np.abs(wavelengths - range_min))]\n",
    "        continuum_end = pixel_flux[np.argmin(np.abs(wavelengths - range_max))]\n",
    "        continuum_line = np.interp(filtered_wavelengths, [range_min, range_max], [continuum_start, continuum_end])\n",
    "        continuum_cube[:, y, x] = continuum_line\n",
    "\n",
    "if np.ma.isMaskedArray(continuum_cube):\n",
    "    continuum_cube = continuum_cube.filled(np.nan) \n",
    "output_path = '25continuum_line.fits'\n",
    "cube_header = fits.getheader(cube_path, ext=1)\n",
    "cube_header['CRVAL3'] = range_min  # Starting wavelength\n",
    "cube_header['CDELT3'] = wavelengths[1] - wavelengths[0]  # Wavelength step size\n",
    "cube_header['NAXIS3'] = len(filtered_wavelengths)  # Number of wavelengths\n",
    "cube_header['NAXIS1'] = continuum_cube.shape[2]  # X-dimension\n",
    "cube_header['NAXIS2'] = continuum_cube.shape[1]  # Y-dimension\n",
    "\n",
    "# Write the FITS file\n",
    "fits.writeto(output_path, continuum_cube.astype('float32'), header=cube_header, overwrite=True)\n",
    "print(f\"Continuum FITS file saved at {output_path}\")\n",
    "\n"
   ]
  },
  {
   "cell_type": "code",
   "execution_count": null,
   "id": "43dc201c",
   "metadata": {},
   "outputs": [],
   "source": []
  }
 ],
 "metadata": {
  "kernelspec": {
   "display_name": "Python 3 (ipykernel)",
   "language": "python",
   "name": "python3"
  },
  "language_info": {
   "codemirror_mode": {
    "name": "ipython",
    "version": 3
   },
   "file_extension": ".py",
   "mimetype": "text/x-python",
   "name": "python",
   "nbconvert_exporter": "python",
   "pygments_lexer": "ipython3",
   "version": "3.11.5"
  }
 },
 "nbformat": 4,
 "nbformat_minor": 5
}
